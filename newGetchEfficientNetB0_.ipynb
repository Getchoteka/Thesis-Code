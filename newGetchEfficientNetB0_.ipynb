{
  "nbformat": 4,
  "nbformat_minor": 0,
  "metadata": {
    "colab": {
      "name": "newGetchEfficientNetB0 .ipynb",
      "provenance": [],
      "collapsed_sections": []
    },
    "kernelspec": {
      "name": "python3",
      "display_name": "Python 3"
    },
    "language_info": {
      "name": "python"
    },
    "accelerator": "GPU"
  },
  "cells": [
    {
      "cell_type": "code",
      "metadata": {
        "colab": {
          "base_uri": "https://localhost:8080/"
        },
        "id": "bpzHEFkARPlp",
        "outputId": "c43161de-108e-4678-c983-973c4180a1ed"
      },
      "source": [
        "!pip install -U efficientnet"
      ],
      "execution_count": null,
      "outputs": [
        {
          "output_type": "stream",
          "name": "stdout",
          "text": [
            "Looking in indexes: https://pypi.org/simple, https://us-python.pkg.dev/colab-wheels/public/simple/\n",
            "Collecting efficientnet\n",
            "  Downloading efficientnet-1.1.1-py3-none-any.whl (18 kB)\n",
            "Requirement already satisfied: scikit-image in /usr/local/lib/python3.7/dist-packages (from efficientnet) (0.18.3)\n",
            "Collecting keras-applications<=1.0.8,>=1.0.7\n",
            "  Downloading Keras_Applications-1.0.8-py3-none-any.whl (50 kB)\n",
            "\u001b[K     |████████████████████████████████| 50 kB 3.4 MB/s \n",
            "\u001b[?25hRequirement already satisfied: numpy>=1.9.1 in /usr/local/lib/python3.7/dist-packages (from keras-applications<=1.0.8,>=1.0.7->efficientnet) (1.21.6)\n",
            "Requirement already satisfied: h5py in /usr/local/lib/python3.7/dist-packages (from keras-applications<=1.0.8,>=1.0.7->efficientnet) (3.1.0)\n",
            "Requirement already satisfied: cached-property in /usr/local/lib/python3.7/dist-packages (from h5py->keras-applications<=1.0.8,>=1.0.7->efficientnet) (1.5.2)\n",
            "Requirement already satisfied: scipy>=1.0.1 in /usr/local/lib/python3.7/dist-packages (from scikit-image->efficientnet) (1.4.1)\n",
            "Requirement already satisfied: networkx>=2.0 in /usr/local/lib/python3.7/dist-packages (from scikit-image->efficientnet) (2.6.3)\n",
            "Requirement already satisfied: PyWavelets>=1.1.1 in /usr/local/lib/python3.7/dist-packages (from scikit-image->efficientnet) (1.3.0)\n",
            "Requirement already satisfied: pillow!=7.1.0,!=7.1.1,>=4.3.0 in /usr/local/lib/python3.7/dist-packages (from scikit-image->efficientnet) (7.1.2)\n",
            "Requirement already satisfied: imageio>=2.3.0 in /usr/local/lib/python3.7/dist-packages (from scikit-image->efficientnet) (2.4.1)\n",
            "Requirement already satisfied: matplotlib!=3.0.0,>=2.0.0 in /usr/local/lib/python3.7/dist-packages (from scikit-image->efficientnet) (3.2.2)\n",
            "Requirement already satisfied: tifffile>=2019.7.26 in /usr/local/lib/python3.7/dist-packages (from scikit-image->efficientnet) (2021.11.2)\n",
            "Requirement already satisfied: cycler>=0.10 in /usr/local/lib/python3.7/dist-packages (from matplotlib!=3.0.0,>=2.0.0->scikit-image->efficientnet) (0.11.0)\n",
            "Requirement already satisfied: pyparsing!=2.0.4,!=2.1.2,!=2.1.6,>=2.0.1 in /usr/local/lib/python3.7/dist-packages (from matplotlib!=3.0.0,>=2.0.0->scikit-image->efficientnet) (3.0.9)\n",
            "Requirement already satisfied: python-dateutil>=2.1 in /usr/local/lib/python3.7/dist-packages (from matplotlib!=3.0.0,>=2.0.0->scikit-image->efficientnet) (2.8.2)\n",
            "Requirement already satisfied: kiwisolver>=1.0.1 in /usr/local/lib/python3.7/dist-packages (from matplotlib!=3.0.0,>=2.0.0->scikit-image->efficientnet) (1.4.2)\n",
            "Requirement already satisfied: typing-extensions in /usr/local/lib/python3.7/dist-packages (from kiwisolver>=1.0.1->matplotlib!=3.0.0,>=2.0.0->scikit-image->efficientnet) (4.2.0)\n",
            "Requirement already satisfied: six>=1.5 in /usr/local/lib/python3.7/dist-packages (from python-dateutil>=2.1->matplotlib!=3.0.0,>=2.0.0->scikit-image->efficientnet) (1.15.0)\n",
            "Installing collected packages: keras-applications, efficientnet\n",
            "Successfully installed efficientnet-1.1.1 keras-applications-1.0.8\n"
          ]
        }
      ]
    },
    {
      "cell_type": "code",
      "metadata": {
        "id": "QtfPVXPZRRXA"
      },
      "source": [
        "from tensorflow.keras.applications import EfficientNetB0"
      ],
      "execution_count": null,
      "outputs": []
    },
    {
      "cell_type": "code",
      "metadata": {
        "colab": {
          "base_uri": "https://localhost:8080/"
        },
        "id": "R_cBA3ERSJnh",
        "outputId": "27354401-c0e5-44bb-be11-3a1b6d53d26e"
      },
      "source": [
        "%pylab inline\n",
        "import pandas as pd"
      ],
      "execution_count": null,
      "outputs": [
        {
          "output_type": "stream",
          "name": "stdout",
          "text": [
            "Populating the interactive namespace from numpy and matplotlib\n"
          ]
        }
      ]
    },
    {
      "cell_type": "code",
      "metadata": {
        "id": "RZQJsWYCSMIk"
      },
      "source": [
        "import matplotlib.pyplot as plt\n",
        "import numpy as np\n",
        "import os\n",
        "import PIL\n",
        "import tensorflow as tf\n",
        "\n",
        "from tensorflow import keras\n",
        "from tensorflow.keras import layers\n",
        "from tensorflow.keras.models import Sequential\n",
        "\n",
        "import pathlib"
      ],
      "execution_count": null,
      "outputs": []
    },
    {
      "cell_type": "code",
      "metadata": {
        "colab": {
          "base_uri": "https://localhost:8080/"
        },
        "id": "dhd6bLlqSU1s",
        "outputId": "f9c0caba-c24c-4e93-9d13-386f4735b44a"
      },
      "source": [
        "from google.colab import drive\n",
        "drive.mount('/content/drive')"
      ],
      "execution_count": null,
      "outputs": [
        {
          "output_type": "stream",
          "name": "stdout",
          "text": [
            "Mounted at /content/drive\n"
          ]
        }
      ]
    },
    {
      "cell_type": "code",
      "metadata": {
        "id": "57u61k8VSO_0"
      },
      "source": [
        "train_dir = \"/content/drive/MyDrive/Dataset/Training Data\"\n",
        "test_dir=\"/content/drive/MyDrive/Dataset/Test Data\"\n",
        "\n",
        "IMG_SIZE = 224"
      ],
      "execution_count": null,
      "outputs": []
    },
    {
      "cell_type": "code",
      "metadata": {
        "colab": {
          "base_uri": "https://localhost:8080/"
        },
        "id": "L2j1jSUoSxHl",
        "outputId": "47500264-a605-4875-d2f3-b9e911315a0f"
      },
      "source": [
        "img_height,img_width=IMG_SIZE,IMG_SIZE\n",
        "batch_size=64\n",
        "train_ds = tf.keras.preprocessing.image_dataset_from_directory(\n",
        "  train_dir,\n",
        "  seed=123,\n",
        "  image_size=(img_height, img_width),\n",
        "  batch_size=batch_size,\n",
        "  label_mode = \"categorical\")\n",
        "\n",
        "test_ds = tf.keras.preprocessing.image_dataset_from_directory(\n",
        "  test_dir,\n",
        "  seed=123,\n",
        "  image_size=(img_height, img_width),\n",
        "  batch_size=16,\n",
        "  label_mode = \"categorical\")\n",
        "\n",
        "class_names = train_ds.class_names\n",
        "print(class_names)"
      ],
      "execution_count": null,
      "outputs": [
        {
          "output_type": "stream",
          "name": "stdout",
          "text": [
            "Found 832 files belonging to 10 classes.\n",
            "Found 212 files belonging to 10 classes.\n",
            "['Fake 10 Birr Note', 'Fake 100 Birr Note', 'Fake 200 Birr Note', 'Fake 5 Birr Note', 'Fake 50 Birr Note', 'Genuine 10 Birr Note', 'Genuine 100 Birr Note', 'Genuine 200 Birr Note', 'Genuine 5 Birr Note', 'Genuine 50 Birr Note']\n"
          ]
        }
      ]
    },
    {
      "cell_type": "code",
      "metadata": {
        "id": "4DPQFp1LTEBL"
      },
      "source": [
        "num_classes = 10"
      ],
      "execution_count": null,
      "outputs": []
    },
    {
      "cell_type": "code",
      "metadata": {
        "id": "oI9nISFyTIlM"
      },
      "source": [
        "def build_model(num_classes):\n",
        "    inputs = layers.Input(shape=(IMG_SIZE, IMG_SIZE, 3))\n",
        "    x = inputs#img_augmentation(inputs)\n",
        "    model = EfficientNetB0(include_top=False, input_tensor=x, weights=\"imagenet\")\n",
        "\n",
        "    # Freeze the pretrained weights\n",
        "    model.trainable = False\n",
        "\n",
        "    # Rebuild top\n",
        "    x = layers.GlobalAveragePooling2D(name=\"avg_pool\")(model.output)\n",
        "    x = layers.BatchNormalization()(x)\n",
        "\n",
        "    top_dropout_rate = 0.2\n",
        "    x = layers.Dropout(top_dropout_rate, name=\"top_dropout\")(x)\n",
        "    outputs = layers.Dense(num_classes, activation=\"softmax\", name=\"pred\")(x)\n",
        "\n",
        "    # Compile\n",
        "    model = tf.keras.Model(inputs, outputs, name=\"EfficientNet\")\n",
        "    optimizer = tf.keras.optimizers.Adam(learning_rate=1e-2)\n",
        "    model.compile(\n",
        "        optimizer=optimizer, loss=\"categorical_crossentropy\", metrics=[\"accuracy\"]\n",
        "    )\n",
        "    return model"
      ],
      "execution_count": null,
      "outputs": []
    },
    {
      "cell_type": "code",
      "metadata": {
        "id": "U16eQlAkTNzb"
      },
      "source": [
        "model = build_model(num_classes)"
      ],
      "execution_count": null,
      "outputs": []
    },
    {
      "cell_type": "code",
      "metadata": {
        "colab": {
          "base_uri": "https://localhost:8080/"
        },
        "id": "ojB-REC5TRQy",
        "outputId": "8ffcced4-9054-48e1-f4db-f68404c78531"
      },
      "source": [
        "epochs=50\n",
        "history = model.fit(\n",
        "  train_ds,\n",
        "  validation_data=test_ds,\n",
        "  epochs=epochs\n",
        ")"
      ],
      "execution_count": null,
      "outputs": [
        {
          "output_type": "stream",
          "name": "stdout",
          "text": [
            "Epoch 1/50\n",
            "13/13 [==============================] - 45s 2s/step - loss: 0.6986 - accuracy: 0.7776 - val_loss: 1.2283 - val_accuracy: 0.4528\n",
            "Epoch 2/50\n",
            "13/13 [==============================] - 36s 1s/step - loss: 0.1821 - accuracy: 0.9423 - val_loss: 1.3061 - val_accuracy: 0.4858\n",
            "Epoch 3/50\n",
            "13/13 [==============================] - 36s 1s/step - loss: 0.1203 - accuracy: 0.9639 - val_loss: 1.1061 - val_accuracy: 0.5519\n",
            "Epoch 4/50\n",
            "13/13 [==============================] - 37s 1s/step - loss: 0.0982 - accuracy: 0.9724 - val_loss: 1.1485 - val_accuracy: 0.5991\n",
            "Epoch 5/50\n",
            "13/13 [==============================] - 38s 2s/step - loss: 0.0474 - accuracy: 0.9832 - val_loss: 1.1636 - val_accuracy: 0.6557\n",
            "Epoch 6/50\n",
            "13/13 [==============================] - 37s 1s/step - loss: 0.0494 - accuracy: 0.9880 - val_loss: 1.0580 - val_accuracy: 0.6557\n",
            "Epoch 7/50\n",
            "13/13 [==============================] - 37s 1s/step - loss: 0.0245 - accuracy: 0.9940 - val_loss: 1.0221 - val_accuracy: 0.7075\n",
            "Epoch 8/50\n",
            "13/13 [==============================] - 36s 1s/step - loss: 0.0405 - accuracy: 0.9868 - val_loss: 1.0307 - val_accuracy: 0.7123\n",
            "Epoch 9/50\n",
            "13/13 [==============================] - 36s 1s/step - loss: 0.0290 - accuracy: 0.9880 - val_loss: 0.9760 - val_accuracy: 0.7500\n",
            "Epoch 10/50\n",
            "13/13 [==============================] - 36s 1s/step - loss: 0.0626 - accuracy: 0.9796 - val_loss: 1.1648 - val_accuracy: 0.7170\n",
            "Epoch 11/50\n",
            "13/13 [==============================] - 36s 1s/step - loss: 0.0457 - accuracy: 0.9880 - val_loss: 1.2031 - val_accuracy: 0.7075\n",
            "Epoch 12/50\n",
            "13/13 [==============================] - 36s 1s/step - loss: 0.0313 - accuracy: 0.9868 - val_loss: 1.2131 - val_accuracy: 0.7264\n",
            "Epoch 13/50\n",
            "13/13 [==============================] - 36s 1s/step - loss: 0.0493 - accuracy: 0.9844 - val_loss: 1.2819 - val_accuracy: 0.7217\n",
            "Epoch 14/50\n",
            "13/13 [==============================] - 36s 1s/step - loss: 0.0476 - accuracy: 0.9892 - val_loss: 1.3997 - val_accuracy: 0.7500\n",
            "Epoch 15/50\n",
            "13/13 [==============================] - 36s 1s/step - loss: 0.0181 - accuracy: 0.9952 - val_loss: 1.2815 - val_accuracy: 0.7406\n",
            "Epoch 16/50\n",
            "13/13 [==============================] - 36s 1s/step - loss: 0.0427 - accuracy: 0.9868 - val_loss: 1.3565 - val_accuracy: 0.6934\n",
            "Epoch 17/50\n",
            "13/13 [==============================] - 36s 1s/step - loss: 0.0122 - accuracy: 0.9952 - val_loss: 1.2371 - val_accuracy: 0.7358\n",
            "Epoch 18/50\n",
            "13/13 [==============================] - 36s 1s/step - loss: 0.0441 - accuracy: 0.9892 - val_loss: 1.7725 - val_accuracy: 0.7358\n",
            "Epoch 19/50\n",
            "13/13 [==============================] - 36s 1s/step - loss: 0.0296 - accuracy: 0.9892 - val_loss: 1.6224 - val_accuracy: 0.7311\n",
            "Epoch 20/50\n",
            "13/13 [==============================] - 36s 1s/step - loss: 0.0442 - accuracy: 0.9892 - val_loss: 1.5902 - val_accuracy: 0.7358\n",
            "Epoch 21/50\n",
            "13/13 [==============================] - 36s 1s/step - loss: 0.0336 - accuracy: 0.9916 - val_loss: 1.5935 - val_accuracy: 0.7406\n",
            "Epoch 22/50\n",
            "13/13 [==============================] - 36s 1s/step - loss: 0.0114 - accuracy: 0.9976 - val_loss: 1.8177 - val_accuracy: 0.7783\n",
            "Epoch 23/50\n",
            "13/13 [==============================] - 36s 1s/step - loss: 0.0243 - accuracy: 0.9952 - val_loss: 2.3946 - val_accuracy: 0.7830\n",
            "Epoch 24/50\n",
            "13/13 [==============================] - 36s 1s/step - loss: 0.0148 - accuracy: 0.9952 - val_loss: 1.8504 - val_accuracy: 0.7547\n",
            "Epoch 25/50\n",
            "13/13 [==============================] - 37s 1s/step - loss: 0.0236 - accuracy: 0.9964 - val_loss: 1.9640 - val_accuracy: 0.7500\n",
            "Epoch 26/50\n",
            "13/13 [==============================] - 36s 1s/step - loss: 0.0277 - accuracy: 0.9880 - val_loss: 1.7544 - val_accuracy: 0.7406\n",
            "Epoch 27/50\n",
            "13/13 [==============================] - 36s 1s/step - loss: 0.0250 - accuracy: 0.9916 - val_loss: 2.0417 - val_accuracy: 0.7311\n",
            "Epoch 28/50\n",
            "13/13 [==============================] - 36s 1s/step - loss: 0.0492 - accuracy: 0.9904 - val_loss: 1.9924 - val_accuracy: 0.7453\n",
            "Epoch 29/50\n",
            "13/13 [==============================] - 36s 1s/step - loss: 0.0512 - accuracy: 0.9880 - val_loss: 2.7032 - val_accuracy: 0.7689\n",
            "Epoch 30/50\n",
            "13/13 [==============================] - 36s 1s/step - loss: 0.0601 - accuracy: 0.9844 - val_loss: 2.5004 - val_accuracy: 0.7547\n",
            "Epoch 31/50\n",
            "13/13 [==============================] - 37s 1s/step - loss: 0.0281 - accuracy: 0.9904 - val_loss: 2.3415 - val_accuracy: 0.7642\n",
            "Epoch 32/50\n",
            "13/13 [==============================] - 36s 1s/step - loss: 0.0395 - accuracy: 0.9856 - val_loss: 3.2152 - val_accuracy: 0.7500\n",
            "Epoch 33/50\n",
            "13/13 [==============================] - 36s 1s/step - loss: 0.0473 - accuracy: 0.9880 - val_loss: 2.5294 - val_accuracy: 0.7547\n",
            "Epoch 34/50\n",
            "13/13 [==============================] - 36s 1s/step - loss: 0.0447 - accuracy: 0.9856 - val_loss: 2.7460 - val_accuracy: 0.7264\n",
            "Epoch 35/50\n",
            "13/13 [==============================] - 36s 1s/step - loss: 0.0562 - accuracy: 0.9868 - val_loss: 3.5973 - val_accuracy: 0.7170\n",
            "Epoch 36/50\n",
            "13/13 [==============================] - 36s 1s/step - loss: 0.0369 - accuracy: 0.9856 - val_loss: 3.3375 - val_accuracy: 0.7594\n",
            "Epoch 37/50\n",
            "13/13 [==============================] - 37s 1s/step - loss: 0.0657 - accuracy: 0.9844 - val_loss: 3.5629 - val_accuracy: 0.7594\n",
            "Epoch 38/50\n",
            "13/13 [==============================] - 36s 1s/step - loss: 0.0250 - accuracy: 0.9916 - val_loss: 3.6765 - val_accuracy: 0.7406\n",
            "Epoch 39/50\n",
            "13/13 [==============================] - 36s 1s/step - loss: 0.0643 - accuracy: 0.9820 - val_loss: 4.0066 - val_accuracy: 0.7453\n",
            "Epoch 40/50\n",
            "13/13 [==============================] - 36s 1s/step - loss: 0.0771 - accuracy: 0.9844 - val_loss: 3.7195 - val_accuracy: 0.7123\n",
            "Epoch 41/50\n",
            "13/13 [==============================] - 36s 1s/step - loss: 0.0622 - accuracy: 0.9868 - val_loss: 4.1837 - val_accuracy: 0.7311\n",
            "Epoch 42/50\n",
            "13/13 [==============================] - 36s 1s/step - loss: 0.0463 - accuracy: 0.9880 - val_loss: 3.2182 - val_accuracy: 0.7453\n",
            "Epoch 43/50\n",
            "13/13 [==============================] - 36s 1s/step - loss: 0.0423 - accuracy: 0.9892 - val_loss: 4.0145 - val_accuracy: 0.7689\n",
            "Epoch 44/50\n",
            "13/13 [==============================] - 36s 1s/step - loss: 0.0597 - accuracy: 0.9856 - val_loss: 4.0744 - val_accuracy: 0.7642\n",
            "Epoch 45/50\n",
            "13/13 [==============================] - 36s 1s/step - loss: 0.0326 - accuracy: 0.9916 - val_loss: 4.8325 - val_accuracy: 0.7736\n",
            "Epoch 46/50\n",
            "13/13 [==============================] - 36s 1s/step - loss: 0.0286 - accuracy: 0.9940 - val_loss: 4.2752 - val_accuracy: 0.7736\n",
            "Epoch 47/50\n",
            "13/13 [==============================] - 36s 1s/step - loss: 0.0233 - accuracy: 0.9964 - val_loss: 4.4844 - val_accuracy: 0.7594\n",
            "Epoch 48/50\n",
            "13/13 [==============================] - 36s 1s/step - loss: 0.0230 - accuracy: 0.9904 - val_loss: 5.1164 - val_accuracy: 0.7642\n",
            "Epoch 49/50\n",
            "13/13 [==============================] - 37s 1s/step - loss: 0.0725 - accuracy: 0.9892 - val_loss: 4.4558 - val_accuracy: 0.7642\n",
            "Epoch 50/50\n",
            "13/13 [==============================] - 36s 1s/step - loss: 0.0632 - accuracy: 0.9832 - val_loss: 5.9398 - val_accuracy: 0.7783\n"
          ]
        }
      ]
    },
    {
      "cell_type": "code",
      "metadata": {
        "colab": {
          "base_uri": "https://localhost:8080/"
        },
        "id": "xO-UW70pVdi2",
        "outputId": "17957fa2-e5ee-48d5-a09c-b8cab32b02f5"
      },
      "source": [
        "print(\"Accuracy of the model is-\" , model.evaluate(train_ds)[1]*100, \"%\")\n",
        "print(\"loss of the model is-\" , model.evaluate(test_ds)[0])"
      ],
      "execution_count": null,
      "outputs": [
        {
          "output_type": "stream",
          "name": "stdout",
          "text": [
            "13/13 [==============================] - 30s 872ms/step - loss: 0.0383 - accuracy: 0.9892\n",
            "Accuracy of the model is- 98.9182710647583 %\n",
            "14/14 [==============================] - 7s 201ms/step - loss: 5.9398 - accuracy: 0.7783\n",
            "loss of the model is- 5.939785003662109\n"
          ]
        }
      ]
    },
    {
      "cell_type": "code",
      "metadata": {
        "id": "an6rR_rKl_tc"
      },
      "source": [
        "model.save('/content/drive/MyDrive/Colab Notebooks/LastGetchEfficientNetB0.h5')"
      ],
      "execution_count": null,
      "outputs": []
    },
    {
      "cell_type": "code",
      "metadata": {
        "colab": {
          "base_uri": "https://localhost:8080/",
          "height": 312
        },
        "id": "6GO0EawdSPGJ",
        "outputId": "8afc0c08-b112-4898-f523-f98cb79460ea"
      },
      "source": [
        "plt.figure(figsize=(6,4))\n",
        "plt.suptitle('Accuracy Plots', fontsize=14)\n",
        "plt.subplot(1,1,1)\n",
        "plt.plot(history.history['accuracy'], label='Train Accuracy')\n",
        "plt.plot(history.history['val_accuracy'], label='Test Accuracy')\n",
        "plt.legend()\n",
        "plt.xlabel('Number of epochs', fontsize=14)\n",
        "plt.ylabel('Accuracy', fontsize=14)\n",
        "plt.show()"
      ],
      "execution_count": null,
      "outputs": [
        {
          "output_type": "display_data",
          "data": {
            "text/plain": [
              "<Figure size 432x288 with 1 Axes>"
            ],
            "image/png": "[encoded data removed]"
          },
          "metadata": {
            "needs_background": "light"
          }
        }
      ]
    },
    {
      "cell_type": "code",
      "metadata": {
        "colab": {
          "base_uri": "https://localhost:8080/",
          "height": 312
        },
        "id": "XgQvpMZGVcoK",
        "outputId": "eb84cc15-a07d-4fb6-e797-f3c78cf8a667"
      },
      "source": [
        "#plot to visualize the loss and accuracy against number of epochs\n",
        "plt.figure(figsize=(6,4))\n",
        "plt.suptitle('Loss Plots', fontsize=14)\n",
        "plt.subplot(1,1,1)\n",
        "plt.plot(history.history['loss'], label='Training Loss')\n",
        "plt.plot(history.history['val_loss'], label='Test Loss')\n",
        "plt.legend()\n",
        "plt.xlabel('Number of epochs', fontsize=14)\n",
        "plt.ylabel('Loss', fontsize=14)\n",
        "\n",
        "plt.show()\n",
        "\n"
      ],
      "execution_count": null,
      "outputs": [
        {
          "output_type": "display_data",
          "data": {
            "text/plain": [
              "<Figure size 432x288 with 1 Axes>"
            ],
            "image/png": "[encoded data removed]"
          },
          "metadata": {
            "needs_background": "light"
          }
        }
      ]
    }
  ]
}