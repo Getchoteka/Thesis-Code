{
  "cells": [
    {
      "cell_type": "code",
      "execution_count": null,
      "metadata": {
        "id": "uw0SZP65Gb7m"
      },
      "outputs": [],
      "source": [
        "from tensorflow.compat.v1 import ConfigProto\n",
        "from tensorflow.compat.v1 import InteractiveSession\n",
        "config = ConfigProto()\n",
        "config.gpu_options.per_process_gpu_memory_fraction = 0.5\n",
        "config.gpu_options.allow_growth = True\n",
        "session = InteractiveSession(config=config)"
      ]
    },
    {
      "cell_type": "code",
      "execution_count": null,
      "metadata": {
        "id": "cgNEq6dqGszq"
      },
      "outputs": [],
      "source": [
        "# import the libraries as shown below\n",
        "\n",
        "from tensorflow.keras.layers import Input, Lambda, Dense, Flatten\n",
        "from tensorflow.keras.models import Model\n",
        "from tensorflow.keras.applications.vgg16 import VGG16\n",
        "#from keras.applications.vgg16 import VGG16\n",
        "from tensorflow.keras.applications.vgg16 import preprocess_input\n",
        "from tensorflow.keras.preprocessing import image\n",
        "from tensorflow.keras.preprocessing.image import ImageDataGenerator,load_img\n",
        "from tensorflow.keras.models import Sequential\n",
        "import numpy as np\n",
        "from glob import glob\n",
        "#import matplotlib.pyplot as plt"
      ]
    },
    {
      "cell_type": "code",
      "execution_count": null,
      "metadata": {
        "colab": {
          "base_uri": "https://localhost:8080/"
        },
        "id": "F5aUzwnVG8At",
        "outputId": "529f3882-c7c4-4b21-f50b-407da3d4fdc7"
      },
      "outputs": [
        {
          "output_type": "stream",
          "name": "stdout",
          "text": [
            "Mounted at /content/drive\n"
          ]
        }
      ],
      "source": [
        "from google.colab import drive\n",
        "drive.mount('/content/drive')"
      ]
    },
    {
      "cell_type": "code",
      "execution_count": null,
      "metadata": {
        "id": "r5Ee1MF0HHxj"
      },
      "outputs": [],
      "source": [
        "# re-size all the images to this\n",
        "IMAGE_SIZE = (224,224,3)\n",
        "\n",
        "train_path = '/content/drive/MyDrive/Dataset/Training Data'\n",
        "valid_path = '/content/drive/MyDrive/Dataset/Test Data'"
      ]
    },
    {
      "cell_type": "code",
      "execution_count": null,
      "metadata": {
        "colab": {
          "base_uri": "https://localhost:8080/"
        },
        "id": "pwe2Ypp_HP6M",
        "outputId": "0714d9f9-f444-47a7-e3f0-d4a4c63cf1c1"
      },
      "outputs": [
        {
          "output_type": "stream",
          "name": "stdout",
          "text": [
            "Downloading data from https://storage.googleapis.com/tensorflow/keras-applications/vgg16/vgg16_weights_tf_dim_ordering_tf_kernels_notop.h5\n",
            "58892288/58889256 [==============================] - 0s 0us/step\n",
            "58900480/58889256 [==============================] - 0s 0us/step\n"
          ]
        }
      ],
      "source": [
        "\n",
        "# Import the Vgg 16 library as shown below and add preprocessing layer to the front of VGG\n",
        "# Here we will be using imagenet weights\n",
        "vgg = VGG16(input_shape=IMAGE_SIZE, weights='imagenet', include_top=False)"
      ]
    },
    {
      "cell_type": "code",
      "execution_count": null,
      "metadata": {
        "id": "jHT-EX9QHrg0"
      },
      "outputs": [],
      "source": [
        "# don't train existing weights\n",
        "for layer in vgg.layers:\n",
        "    layer.trainable = False"
      ]
    },
    {
      "cell_type": "code",
      "execution_count": null,
      "metadata": {
        "id": "mDroHwDCIDlx"
      },
      "outputs": [],
      "source": [
        "# useful for getting number of output classes\n",
        "folders = glob('/content/drive/MyDrive/Dataset/Training Data/*')"
      ]
    },
    {
      "cell_type": "code",
      "execution_count": null,
      "metadata": {
        "id": "5SpkJucaILVZ"
      },
      "outputs": [],
      "source": [
        "# our layers - you can add more if you want\n",
        "x = Flatten()(vgg.output)"
      ]
    },
    {
      "cell_type": "code",
      "execution_count": null,
      "metadata": {
        "id": "EBdTNQXkINJx"
      },
      "outputs": [],
      "source": [
        "\n",
        "prediction = Dense(len(folders), activation='softmax')(x)\n",
        "\n",
        "# create a model object\n",
        "model = Model(inputs=vgg.input, outputs=prediction)"
      ]
    },
    {
      "cell_type": "code",
      "execution_count": null,
      "metadata": {
        "colab": {
          "base_uri": "https://localhost:8080/"
        },
        "id": "6Ccige9_IuaF",
        "outputId": "d63af776-409c-43a7-b90e-7f5839a352c1"
      },
      "outputs": [
        {
          "output_type": "stream",
          "name": "stdout",
          "text": [
            "Model: \"model\"\n",
            "_________________________________________________________________\n",
            " Layer (type)                Output Shape              Param #   \n",
            "=================================================================\n",
            " input_1 (InputLayer)        [(None, 224, 224, 3)]     0         \n",
            "                                                                 \n",
            " block1_conv1 (Conv2D)       (None, 224, 224, 64)      1792      \n",
            "                                                                 \n",
            " block1_conv2 (Conv2D)       (None, 224, 224, 64)      36928     \n",
            "                                                                 \n",
            " block1_pool (MaxPooling2D)  (None, 112, 112, 64)      0         \n",
            "                                                                 \n",
            " block2_conv1 (Conv2D)       (None, 112, 112, 128)     73856     \n",
            "                                                                 \n",
            " block2_conv2 (Conv2D)       (None, 112, 112, 128)     147584    \n",
            "                                                                 \n",
            " block2_pool (MaxPooling2D)  (None, 56, 56, 128)       0         \n",
            "                                                                 \n",
            " block3_conv1 (Conv2D)       (None, 56, 56, 256)       295168    \n",
            "                                                                 \n",
            " block3_conv2 (Conv2D)       (None, 56, 56, 256)       590080    \n",
            "                                                                 \n",
            " block3_conv3 (Conv2D)       (None, 56, 56, 256)       590080    \n",
            "                                                                 \n",
            " block3_pool (MaxPooling2D)  (None, 28, 28, 256)       0         \n",
            "                                                                 \n",
            " block4_conv1 (Conv2D)       (None, 28, 28, 512)       1180160   \n",
            "                                                                 \n",
            " block4_conv2 (Conv2D)       (None, 28, 28, 512)       2359808   \n",
            "                                                                 \n",
            " block4_conv3 (Conv2D)       (None, 28, 28, 512)       2359808   \n",
            "                                                                 \n",
            " block4_pool (MaxPooling2D)  (None, 14, 14, 512)       0         \n",
            "                                                                 \n",
            " block5_conv1 (Conv2D)       (None, 14, 14, 512)       2359808   \n",
            "                                                                 \n",
            " block5_conv2 (Conv2D)       (None, 14, 14, 512)       2359808   \n",
            "                                                                 \n",
            " block5_conv3 (Conv2D)       (None, 14, 14, 512)       2359808   \n",
            "                                                                 \n",
            " block5_pool (MaxPooling2D)  (None, 7, 7, 512)         0         \n",
            "                                                                 \n",
            " flatten (Flatten)           (None, 25088)             0         \n",
            "                                                                 \n",
            " dense (Dense)               (None, 10)                250890    \n",
            "                                                                 \n",
            "=================================================================\n",
            "Total params: 14,965,578\n",
            "Trainable params: 250,890\n",
            "Non-trainable params: 14,714,688\n",
            "_________________________________________________________________\n"
          ]
        }
      ],
      "source": [
        " \n",
        "# view the structure of the model\n",
        "model.summary()"
      ]
    },
    {
      "cell_type": "code",
      "execution_count": null,
      "metadata": {
        "id": "OSCjFwU8IzeE"
      },
      "outputs": [],
      "source": [
        "\n",
        "# tell the model what cost and optimization method to use\n",
        "model.compile(\n",
        "  loss='categorical_crossentropy',\n",
        "  optimizer='adam',\n",
        "  metrics=['accuracy']\n",
        ")"
      ]
    },
    {
      "cell_type": "code",
      "execution_count": null,
      "metadata": {
        "id": "V0yG8EmkI4kd"
      },
      "outputs": [],
      "source": [
        "\n",
        "# Use the Image Data Generator to import the images from the dataset\n",
        "from tensorflow.keras.preprocessing.image import ImageDataGenerator\n",
        "\n",
        "train_datagen = ImageDataGenerator(rescale = 1./255,\n",
        "                                   shear_range = 0.2,\n",
        "                                   zoom_range = 0.2,\n",
        "                                   horizontal_flip = True)\n",
        "\n",
        "test_datagen = ImageDataGenerator(rescale = 1./255)"
      ]
    },
    {
      "cell_type": "code",
      "execution_count": null,
      "metadata": {
        "colab": {
          "base_uri": "https://localhost:8080/"
        },
        "id": "nZGPHOhjI-R4",
        "outputId": "88aa56a8-12cf-45bd-e7ac-f8a2b030329a"
      },
      "outputs": [
        {
          "output_type": "stream",
          "name": "stdout",
          "text": [
            "Found 832 images belonging to 10 classes.\n"
          ]
        }
      ],
      "source": [
        "# Make sure you provide the same target size as initialied for the image size\n",
        "training_set = train_datagen.flow_from_directory('/content/drive/MyDrive/Dataset/Training Data',\n",
        "                                                 target_size = (224, 224),\n",
        "                                                 batch_size = 32,\n",
        "                                                 class_mode = 'categorical')"
      ]
    },
    {
      "cell_type": "code",
      "execution_count": null,
      "metadata": {
        "colab": {
          "base_uri": "https://localhost:8080/"
        },
        "id": "nNFgI83gJJZu",
        "outputId": "a4bda546-f370-46f7-bad0-fadd2a16ddc3"
      },
      "outputs": [
        {
          "output_type": "stream",
          "name": "stdout",
          "text": [
            "Found 257 images belonging to 10 classes.\n"
          ]
        }
      ],
      "source": [
        "test_set = test_datagen.flow_from_directory('/content/drive/MyDrive/Dataset/Test Data',\n",
        "                                            target_size = (224, 224),\n",
        "                                            batch_size = 1,\n",
        "                                            class_mode = 'categorical')"
      ]
    },
    {
      "cell_type": "code",
      "execution_count": null,
      "metadata": {
        "colab": {
          "base_uri": "https://localhost:8080/"
        },
        "id": "Drzx-tq9JXCL",
        "outputId": "f9d95316-2e83-42bd-d931-4604aeed778a"
      },
      "outputs": [
        {
          "output_type": "stream",
          "name": "stdout",
          "text": [
            "Epoch 1/50\n",
            "26/26 [==============================] - 507s 19s/step - loss: 1.5025 - accuracy: 0.5445 - val_loss: 1.0481 - val_accuracy: 0.5914\n",
            "Epoch 2/50\n",
            "26/26 [==============================] - 129s 5s/step - loss: 0.4239 - accuracy: 0.8678 - val_loss: 1.2428 - val_accuracy: 0.5525\n",
            "Epoch 3/50\n",
            "26/26 [==============================] - 126s 5s/step - loss: 0.2911 - accuracy: 0.9087 - val_loss: 1.4733 - val_accuracy: 0.5564\n",
            "Epoch 4/50\n",
            "26/26 [==============================] - 125s 5s/step - loss: 0.2048 - accuracy: 0.9399 - val_loss: 1.3641 - val_accuracy: 0.5914\n",
            "Epoch 5/50\n",
            "26/26 [==============================] - 124s 5s/step - loss: 0.1700 - accuracy: 0.9555 - val_loss: 1.4821 - val_accuracy: 0.6226\n",
            "Epoch 6/50\n",
            "26/26 [==============================] - 123s 5s/step - loss: 0.1189 - accuracy: 0.9724 - val_loss: 1.6833 - val_accuracy: 0.6070\n",
            "Epoch 7/50\n",
            "26/26 [==============================] - 124s 5s/step - loss: 0.1103 - accuracy: 0.9712 - val_loss: 1.5706 - val_accuracy: 0.6031\n",
            "Epoch 8/50\n",
            "26/26 [==============================] - 123s 5s/step - loss: 0.1027 - accuracy: 0.9736 - val_loss: 1.6605 - val_accuracy: 0.6031\n",
            "Epoch 9/50\n",
            "26/26 [==============================] - 123s 5s/step - loss: 0.0902 - accuracy: 0.9736 - val_loss: 2.1665 - val_accuracy: 0.5875\n",
            "Epoch 10/50\n",
            "26/26 [==============================] - 124s 5s/step - loss: 0.1058 - accuracy: 0.9712 - val_loss: 2.0755 - val_accuracy: 0.6226\n",
            "Epoch 11/50\n",
            "26/26 [==============================] - 122s 5s/step - loss: 0.0828 - accuracy: 0.9760 - val_loss: 1.6667 - val_accuracy: 0.5992\n",
            "Epoch 12/50\n",
            "26/26 [==============================] - 123s 5s/step - loss: 0.0798 - accuracy: 0.9748 - val_loss: 1.5222 - val_accuracy: 0.6109\n",
            "Epoch 13/50\n",
            "26/26 [==============================] - 123s 5s/step - loss: 0.0974 - accuracy: 0.9736 - val_loss: 1.5631 - val_accuracy: 0.6109\n",
            "Epoch 14/50\n",
            "26/26 [==============================] - 123s 5s/step - loss: 0.0565 - accuracy: 0.9904 - val_loss: 2.2385 - val_accuracy: 0.6070\n",
            "Epoch 15/50\n",
            "26/26 [==============================] - 123s 5s/step - loss: 0.0434 - accuracy: 0.9892 - val_loss: 1.5510 - val_accuracy: 0.5992\n",
            "Epoch 16/50\n",
            "26/26 [==============================] - 123s 5s/step - loss: 0.0370 - accuracy: 0.9892 - val_loss: 1.9451 - val_accuracy: 0.6070\n",
            "Epoch 17/50\n",
            "26/26 [==============================] - 123s 5s/step - loss: 0.0460 - accuracy: 0.9916 - val_loss: 1.9074 - val_accuracy: 0.6031\n",
            "Epoch 18/50\n",
            "26/26 [==============================] - 123s 5s/step - loss: 0.0375 - accuracy: 0.9916 - val_loss: 2.1132 - val_accuracy: 0.6342\n",
            "Epoch 19/50\n",
            "26/26 [==============================] - 123s 5s/step - loss: 0.0370 - accuracy: 0.9904 - val_loss: 1.8523 - val_accuracy: 0.6031\n",
            "Epoch 20/50\n",
            "26/26 [==============================] - 122s 5s/step - loss: 0.0255 - accuracy: 0.9916 - val_loss: 1.9916 - val_accuracy: 0.6109\n",
            "Epoch 21/50\n",
            "26/26 [==============================] - 123s 5s/step - loss: 0.0203 - accuracy: 0.9976 - val_loss: 2.2283 - val_accuracy: 0.6226\n",
            "Epoch 22/50\n",
            "26/26 [==============================] - 124s 5s/step - loss: 0.0229 - accuracy: 0.9964 - val_loss: 2.3892 - val_accuracy: 0.6304\n",
            "Epoch 23/50\n",
            "26/26 [==============================] - 123s 5s/step - loss: 0.0258 - accuracy: 0.9964 - val_loss: 2.5167 - val_accuracy: 0.6226\n",
            "Epoch 24/50\n",
            "26/26 [==============================] - 123s 5s/step - loss: 0.0237 - accuracy: 0.9952 - val_loss: 2.1887 - val_accuracy: 0.6226\n",
            "Epoch 25/50\n",
            "26/26 [==============================] - 123s 5s/step - loss: 0.0183 - accuracy: 0.9976 - val_loss: 2.2270 - val_accuracy: 0.6187\n",
            "Epoch 26/50\n",
            "26/26 [==============================] - 122s 5s/step - loss: 0.0199 - accuracy: 0.9940 - val_loss: 2.0431 - val_accuracy: 0.5953\n",
            "Epoch 27/50\n",
            "26/26 [==============================] - 123s 5s/step - loss: 0.0143 - accuracy: 0.9988 - val_loss: 2.1623 - val_accuracy: 0.6187\n",
            "Epoch 28/50\n",
            "26/26 [==============================] - 123s 5s/step - loss: 0.0119 - accuracy: 1.0000 - val_loss: 2.1379 - val_accuracy: 0.6109\n",
            "Epoch 29/50\n",
            "26/26 [==============================] - 122s 5s/step - loss: 0.0163 - accuracy: 0.9976 - val_loss: 2.3506 - val_accuracy: 0.6381\n",
            "Epoch 30/50\n",
            "26/26 [==============================] - 123s 5s/step - loss: 0.0173 - accuracy: 0.9976 - val_loss: 2.1759 - val_accuracy: 0.6304\n",
            "Epoch 31/50\n",
            "26/26 [==============================] - 123s 5s/step - loss: 0.0132 - accuracy: 1.0000 - val_loss: 2.5723 - val_accuracy: 0.6342\n",
            "Epoch 32/50\n",
            "26/26 [==============================] - 122s 5s/step - loss: 0.0126 - accuracy: 0.9988 - val_loss: 2.2843 - val_accuracy: 0.6148\n",
            "Epoch 33/50\n",
            "26/26 [==============================] - 123s 5s/step - loss: 0.0189 - accuracy: 0.9952 - val_loss: 2.4369 - val_accuracy: 0.6342\n",
            "Epoch 34/50\n",
            "26/26 [==============================] - 123s 5s/step - loss: 0.0110 - accuracy: 0.9988 - val_loss: 2.3297 - val_accuracy: 0.6109\n",
            "Epoch 35/50\n",
            "26/26 [==============================] - 122s 5s/step - loss: 0.0082 - accuracy: 1.0000 - val_loss: 2.1188 - val_accuracy: 0.6070\n",
            "Epoch 36/50\n",
            "26/26 [==============================] - 123s 5s/step - loss: 0.0100 - accuracy: 1.0000 - val_loss: 2.1538 - val_accuracy: 0.5992\n",
            "Epoch 37/50\n",
            "26/26 [==============================] - 123s 5s/step - loss: 0.0084 - accuracy: 1.0000 - val_loss: 2.0007 - val_accuracy: 0.6109\n",
            "Epoch 38/50\n",
            "26/26 [==============================] - 122s 5s/step - loss: 0.0109 - accuracy: 0.9988 - val_loss: 2.3184 - val_accuracy: 0.6226\n",
            "Epoch 39/50\n",
            "26/26 [==============================] - 123s 5s/step - loss: 0.0058 - accuracy: 1.0000 - val_loss: 2.3595 - val_accuracy: 0.6070\n",
            "Epoch 40/50\n",
            "26/26 [==============================] - 123s 5s/step - loss: 0.0066 - accuracy: 1.0000 - val_loss: 2.4868 - val_accuracy: 0.6109\n",
            "Epoch 41/50\n",
            "26/26 [==============================] - 123s 5s/step - loss: 0.0081 - accuracy: 0.9988 - val_loss: 2.3746 - val_accuracy: 0.6070\n",
            "Epoch 42/50\n",
            "26/26 [==============================] - 124s 5s/step - loss: 0.0099 - accuracy: 0.9988 - val_loss: 2.3841 - val_accuracy: 0.6148\n",
            "Epoch 43/50\n",
            "26/26 [==============================] - 123s 5s/step - loss: 0.0128 - accuracy: 0.9976 - val_loss: 2.6556 - val_accuracy: 0.6265\n",
            "Epoch 44/50\n",
            "26/26 [==============================] - 122s 5s/step - loss: 0.0074 - accuracy: 0.9988 - val_loss: 2.3870 - val_accuracy: 0.6031\n",
            "Epoch 45/50\n",
            "26/26 [==============================] - 123s 5s/step - loss: 0.0068 - accuracy: 0.9988 - val_loss: 2.5457 - val_accuracy: 0.6148\n",
            "Epoch 46/50\n",
            "26/26 [==============================] - 123s 5s/step - loss: 0.0122 - accuracy: 0.9988 - val_loss: 2.5213 - val_accuracy: 0.6070\n",
            "Epoch 47/50\n",
            "26/26 [==============================] - 123s 5s/step - loss: 0.0185 - accuracy: 0.9952 - val_loss: 2.5538 - val_accuracy: 0.6226\n",
            "Epoch 48/50\n",
            "26/26 [==============================] - 124s 5s/step - loss: 0.0117 - accuracy: 0.9988 - val_loss: 2.5087 - val_accuracy: 0.6148\n",
            "Epoch 49/50\n",
            "26/26 [==============================] - 123s 5s/step - loss: 0.0068 - accuracy: 0.9988 - val_loss: 2.5560 - val_accuracy: 0.6226\n",
            "Epoch 50/50\n",
            "26/26 [==============================] - 123s 5s/step - loss: 0.0057 - accuracy: 1.0000 - val_loss: 2.5897 - val_accuracy: 0.6187\n"
          ]
        }
      ],
      "source": [
        "# fit the model\n",
        "r = model.fit(\n",
        "  training_set,\n",
        "  validation_data=test_set,\n",
        "  epochs=50,\n",
        "  steps_per_epoch=len(training_set),\n",
        "  validation_steps=len(test_set)\n",
        ")"
      ]
    },
    {
      "cell_type": "code",
      "execution_count": null,
      "metadata": {
        "colab": {
          "base_uri": "https://localhost:8080/"
        },
        "id": "8j_KbCmFKw1s",
        "outputId": "9b5036be-18b8-4283-f29f-91559b45219f"
      },
      "outputs": [
        {
          "output_type": "stream",
          "name": "stdout",
          "text": [
            "26/26 [==============================] - 96s 4s/step - loss: 0.0094 - accuracy: 0.9988\n",
            "Accuracy of the model is- 99.87980723381042 %\n",
            "257/257 [==============================] - 28s 109ms/step - loss: 2.5897 - accuracy: 0.6187\n",
            "loss of the model is- 2.589693784713745\n"
          ]
        }
      ],
      "source": [
        "print(\"Accuracy of the model is-\" , model.evaluate(training_set)[1]*100, \"%\")\n",
        "print(\"loss of the model is-\" , model.evaluate(test_set)[0])"
      ]
    },
    {
      "cell_type": "code",
      "source": [
        "# plot the accuracy\n",
        "import matplotlib.pyplot as plt\n",
        "plt.plot(r.history['accuracy'], label='train acc')\n",
        "plt.plot(r.history['val_accuracy'], label='test acc')\n",
        "plt.legend()\n",
        "plt.show()\n",
        "plt.savefig('AccVal_acc')"
      ],
      "metadata": {
        "colab": {
          "base_uri": "https://localhost:8080/",
          "height": 282
        },
        "id": "QZPKzx393vQM",
        "outputId": "524bebde-9f0b-45f0-b5fa-b5f3220dae84"
      },
      "execution_count": null,
      "outputs": [
        {
          "output_type": "display_data",
          "data": {
            "text/plain": [
              "<Figure size 432x288 with 1 Axes>"
            ],
            "image/png": "[encoded data removed]"
          },
          "metadata": {
            "needs_background": "light"
          }
        },
        {
          "output_type": "display_data",
          "data": {
            "text/plain": [
              "<Figure size 432x288 with 0 Axes>"
            ]
          },
          "metadata": {}
        }
      ]
    },
    {
      "cell_type": "code",
      "execution_count": null,
      "metadata": {
        "colab": {
          "base_uri": "https://localhost:8080/",
          "height": 282
        },
        "id": "Qvc4cRnFJoFh",
        "outputId": "4b2f857d-d4af-4652-a785-f8f1ec222a04"
      },
      "outputs": [
        {
          "output_type": "display_data",
          "data": {
            "text/plain": [
              "<Figure size 432x288 with 1 Axes>"
            ],
            "image/png": "[encoded data removed]"
          },
          "metadata": {
            "needs_background": "light"
          }
        },
        {
          "output_type": "display_data",
          "data": {
            "text/plain": [
              "<Figure size 432x288 with 0 Axes>"
            ]
          },
          "metadata": {}
        }
      ],
      "source": [
        "# plot the loss\n",
        "\n",
        "plt.plot(r.history['loss'], label='train loss')\n",
        "plt.plot(r.history['val_loss'], label='test loss')\n",
        "plt.legend()\n",
        "plt.show()\n",
        "plt.savefig('LossVal_loss')\n",
        "\n"
      ]
    },
    {
      "cell_type": "code",
      "execution_count": null,
      "metadata": {
        "id": "f9MsQnYxJuRS"
      },
      "outputs": [],
      "source": [
        "# save it as a h5 file\n",
        "\n",
        "\n",
        "from tensorflow.keras.models import load_model\n",
        "\n",
        "model.save('/content/drive/MyDrive/Dataset/newVGG16.h5')"
      ]
    },
    {
      "cell_type": "code",
      "execution_count": null,
      "metadata": {
        "id": "AJ0DSKr_Jwoj"
      },
      "outputs": [],
      "source": [
        "\n",
        "y_pred = model.predict(test_set)"
      ]
    },
    {
      "cell_type": "code",
      "execution_count": null,
      "metadata": {
        "colab": {
          "base_uri": "https://localhost:8080/"
        },
        "id": "N9q_LEqfJxZs",
        "outputId": "b8bbb4eb-cae8-4fcd-accc-1589fe0247bb"
      },
      "outputs": [
        {
          "output_type": "execute_result",
          "data": {
            "text/plain": [
              "array([[2.9098018e-04, 1.3476806e-02, 8.9775998e-04, ..., 6.1018477e-06,\n",
              "        4.6966106e-01, 1.9431506e-07],\n",
              "       [6.4802036e-04, 2.7317823e-05, 1.4570162e-01, ..., 9.2575990e-02,\n",
              "        7.5387883e-01, 6.6362787e-03],\n",
              "       [9.9965346e-01, 2.9011789e-08, 1.7309018e-06, ..., 5.3809320e-08,\n",
              "        3.1713280e-04, 3.5800784e-07],\n",
              "       ...,\n",
              "       [7.8787984e-05, 1.3941487e-03, 4.5476656e-05, ..., 4.3138693e-06,\n",
              "        9.9803025e-01, 7.2679695e-06],\n",
              "       [1.7687916e-10, 4.8385073e-06, 7.1857789e-07, ..., 1.5218557e-05,\n",
              "        3.6080129e-07, 1.4679006e-08],\n",
              "       [6.5430475e-04, 2.0348575e-06, 4.2030623e-04, ..., 1.2644922e-02,\n",
              "        1.3739315e-05, 1.0967340e-03]], dtype=float32)"
            ]
          },
          "metadata": {},
          "execution_count": 23
        }
      ],
      "source": [
        "y_pred"
      ]
    }
  ],
  "metadata": {
    "accelerator": "GPU",
    "colab": {
      "collapsed_sections": [],
      "name": "Getch VGG16.ipynb",
      "provenance": []
    },
    "kernelspec": {
      "display_name": "Python 3",
      "name": "python3"
    },
    "language_info": {
      "name": "python"
    }
  },
  "nbformat": 4,
  "nbformat_minor": 0
}